{
 "cells": [
  {
   "cell_type": "code",
   "execution_count": 1,
   "metadata": {},
   "outputs": [],
   "source": [
    "import numpy as np\n",
    "import matplotlib.pyplot as plt\n",
    "import gurobipy as gp\n",
    "import json"
   ]
  },
  {
   "cell_type": "code",
   "execution_count": 2,
   "metadata": {},
   "outputs": [],
   "source": [
    "def Dorfman(model, where):\n",
    "\n",
    "    if where == gp.GRB.Callback.MIPSOL:\n",
    "        EQ = 0\n",
    "        for s in escenarios:\n",
    "            sub = gp.Model()\n",
    "            sub.params.OutputFlag = 0\n",
    "\n",
    "            x2 = sub.addVars(grupos, individuos, vtype=gp.GRB.BINARY, name=\"x2\")\n",
    "            y2 = sub.addVars(grupos, vtype=gp.GRB.BINARY, name=\"y2\")\n",
    "            \n",
    "            # sub.addConstrs(sum(x2[i, j] for j in individuos) <= GT for i in grupos)\n",
    "            sub.addConstrs(x2[i, j] >= model.cbGetSolution(x1[GT][i, j])*y2[i] + model.cbGetSolution(z1[GT][i])-1 for j in individuos for i in grupos)\n",
    "            sub.addConstrs(y2[i]*1e6 >= sum(model.cbGetSolution(x1[GT][i, j]) * ret[s, j] for j in individuos) for i in grupos)\n",
    "\n",
    "            sub.setObjective(sum(x2[i, j] for i in grupos for j in individuos), gp.GRB.MINIMIZE)\n",
    "\n",
    "            sub.optimize()\n",
    "            EQ += sub.objVal\n",
    "        EQ = EQ/S\n",
    "        model.cbLazy(EQ <= theta[GT])"
   ]
  },
  {
   "cell_type": "code",
   "execution_count": 3,
   "metadata": {},
   "outputs": [],
   "source": [
    "with open(\"prevalencia.json\", \"r\") as file:\n",
    "    diccionario = json.load(file)\n",
    "\n",
    "pDorfman = []\n",
    "prevalencia = []\n",
    "resultados = []\n",
    "for a, b in diccionario.items():\n",
    "    pDorfman.append(float(a))\n",
    "    prevalencia.append(np.array(b[\"prevalencia\"])[0:346])\n",
    "    resultados.append(np.array(b[\"resultado\"])[0:346])\n",
    "pDorfman = np.array(pDorfman)\n",
    "prevalencia = np.array(prevalencia) \n",
    "resultados = np.array(resultados)\n"
   ]
  },
  {
   "cell_type": "code",
   "execution_count": 4,
   "metadata": {},
   "outputs": [],
   "source": [
    "I = prevalencia.shape[1] # Cantidad de personas\n",
    "S = 5 # Cantidad de simulaciones\n",
    "alpha = 5*I # Cantidad de test disponibles\n",
    "beta = 0.2 # Cantidad de volumen de muestra que necesita un test\n",
    "delta = 0.3 # Umbral para solo testear\n",
    "\n",
    "individuos = range(I)\n",
    "muestras = 2*np.ones(I)\n",
    "escenarios = range(S)\n",
    "\n",
    "# real_p = np.round(np.random.uniform(low=0.01, high=0.5, size=I), decimals=2)\n",
    "# real_p = \n",
    "# p = np.mean(real_p)\n",
    "# hat_p = np.ones(I)*p"
   ]
  },
  {
   "cell_type": "code",
   "execution_count": 5,
   "metadata": {},
   "outputs": [
    {
     "name": "stdout",
     "output_type": "stream",
     "text": [
      "4\n",
      "Academic license - for non-commercial use only - expires 2023-06-21\n",
      "Using license file C:\\Users\\jacmo\\gurobi.lic\n"
     ]
    },
    {
     "ename": "KeyboardInterrupt",
     "evalue": "",
     "output_type": "error",
     "traceback": [
      "\u001b[1;31m---------------------------------------------------------------------------\u001b[0m",
      "\u001b[1;31mKeyboardInterrupt\u001b[0m                         Traceback (most recent call last)",
      "\u001b[1;32msrc\\gurobipy\\callback.pxi\u001b[0m in \u001b[0;36mgurobipy.CallbackClass.callback\u001b[1;34m()\u001b[0m\n",
      "\u001b[1;32m~\\AppData\\Local\\Temp\\ipykernel_11292\\1733593922.py\u001b[0m in \u001b[0;36mDorfman\u001b[1;34m(model, where)\u001b[0m\n\u001b[1;32m----> 1\u001b[1;33m \u001b[1;32mdef\u001b[0m \u001b[0mDorfman\u001b[0m\u001b[1;33m(\u001b[0m\u001b[0mmodel\u001b[0m\u001b[1;33m,\u001b[0m \u001b[0mwhere\u001b[0m\u001b[1;33m)\u001b[0m\u001b[1;33m:\u001b[0m\u001b[1;33m\u001b[0m\u001b[1;33m\u001b[0m\u001b[0m\n\u001b[0m\u001b[0;32m      2\u001b[0m \u001b[1;33m\u001b[0m\u001b[0m\n\u001b[0;32m      3\u001b[0m     \u001b[1;32mif\u001b[0m \u001b[0mwhere\u001b[0m \u001b[1;33m==\u001b[0m \u001b[0mgp\u001b[0m\u001b[1;33m.\u001b[0m\u001b[0mGRB\u001b[0m\u001b[1;33m.\u001b[0m\u001b[0mCallback\u001b[0m\u001b[1;33m.\u001b[0m\u001b[0mMIPSOL\u001b[0m\u001b[1;33m:\u001b[0m\u001b[1;33m\u001b[0m\u001b[1;33m\u001b[0m\u001b[0m\n\u001b[0;32m      4\u001b[0m         \u001b[0mEQ\u001b[0m \u001b[1;33m=\u001b[0m \u001b[1;36m0\u001b[0m\u001b[1;33m\u001b[0m\u001b[1;33m\u001b[0m\u001b[0m\n\u001b[0;32m      5\u001b[0m         \u001b[1;32mfor\u001b[0m \u001b[0ms\u001b[0m \u001b[1;32min\u001b[0m \u001b[0mescenarios\u001b[0m\u001b[1;33m:\u001b[0m\u001b[1;33m\u001b[0m\u001b[1;33m\u001b[0m\u001b[0m\n",
      "\u001b[1;31mKeyboardInterrupt\u001b[0m: "
     ]
    },
    {
     "name": "stderr",
     "output_type": "stream",
     "text": [
      "Exception ignored in: 'gurobipy.callbackstub'\n",
      "Traceback (most recent call last):\n",
      "  File \"src\\gurobipy\\callback.pxi\", line 180, in gurobipy.CallbackClass.callback\n",
      "  File \"C:\\Users\\jacmo\\AppData\\Local\\Temp\\ipykernel_11292\\1733593922.py\", line 1, in Dorfman\n",
      "KeyboardInterrupt: \n"
     ]
    }
   ],
   "source": [
    "for i in range(len(pDorfman)):\n",
    "    p = pDorfman[i]\n",
    "    hat_p = prevalencia[i]\n",
    "    ret = np.array([[np.random.binomial(n=1, p=x) for x in hat_p] for _ in escenarios])\n",
    "    \n",
    "    val = []\n",
    "    x1 = {}\n",
    "    y1 = {}\n",
    "    z1 = {}\n",
    "    theta = {}\n",
    "    master = {}\n",
    "    for GT in range(4,8):\n",
    "        print(GT)\n",
    "        gsum = 0\n",
    "        for j in range(len(hat_p)):\n",
    "            if hat_p[i] >= 0.25:\n",
    "                gsum += 1\n",
    "\n",
    "        G = int(np.ceil(I/GT)) + gsum + 12\n",
    "        grupos = range(G)\n",
    "        \n",
    "        L = 0\n",
    "        \n",
    "        master[GT] = gp.Model()\n",
    "        master[GT].params.OutputFlag = 0\n",
    "        master[GT].params.LazyConstraints = 1\n",
    "\n",
    "        x1[GT] = master[GT].addVars(grupos, individuos, vtype=gp.GRB.BINARY, name=\"x1\")\n",
    "        y1[GT] = master[GT].addVars(grupos, vtype=gp.GRB.BINARY, name=\"y1\")\n",
    "        z1[GT] = master[GT].addVars(grupos, vtype=gp.GRB.BINARY, name=\"z1\")\n",
    "        theta[GT] = master[GT].addVar(lb=L)\n",
    "\n",
    "        master[GT].addConstrs(y1[GT][i]*1e6 >= sum(x1[GT][i, j] for j in individuos) for i in grupos) #R1\n",
    "        master[GT].addConstrs(z1[GT][i]*1e6 >= sum(x1[GT][i, j] for j in individuos) - 1 for i in grupos) #R2\n",
    "        master[GT].addConstrs(sum(x1[GT][i, j] for i in grupos) == 1 for j in individuos) #R3\n",
    "        # master[GT].addConstr(sum(y1[GT][i] for i in grupos) <= alpha) #R4\n",
    "        # master[GT].addConstrs(sum(muestras[j]*x1[GT][i,j] for i in grupos) >= beta for j in individuos) #R5\n",
    "        # master[GT].addConstrs((muestras[j] <= delta) >> (sum(x1[GT][i,j] for i in grupos) == 1) for j in individuos) #R6\n",
    "        # master[GT].addConstrs((muestras[j] <= delta) >> (sum(x1[GT][i,j] for i in grupos) == 1) for j in individuos)\n",
    "\n",
    "        master[GT].addConstrs(sum(x1[GT][i, j] for j in individuos) <= GT for i in grupos) #R7\n",
    "        # master[GT].addConstr(sum(x1[GT][i, j] for i in grupos for j in individuos) >= I) #R8\n",
    "        for j in range(len(hat_p)):\n",
    "            if hat_p[i] >= 0.25:\n",
    "                master[GT].addConstr((x1[i,j] == 1) >> (sum(x1[i,k] for k in individuos) == 1) for i in grupos)\n",
    "\n",
    "        master[GT].setObjective(sum(y1[GT][j] for j in grupos) + theta[GT], gp.GRB.MINIMIZE)\n",
    "\n",
    "        master[GT].optimize(Dorfman)\n",
    "        val.append(master[GT].objVal)\n",
    "    print(val)\n",
    "    GTO = val.index(min(val)) + 4\n",
    "    G = int(np.ceil(I/GTO)) + gsum + 12\n",
    "\n",
    "    print(GTO)\n",
    "    config = np.zeros((G, I))\n",
    "    ik, jk = -1, -1\n",
    "    for var in master[GTO].getVars():\n",
    "        if \"x1\" in var.VarName:\n",
    "            jk += 1\n",
    "            if jk % I == 0:\n",
    "                ik += 1\n",
    "                jk = 0\n",
    "\n",
    "            if var.X == 1:\n",
    "                config[ik, jk] = 1\n",
    "    plt.spy(config)\n",
    "    plt.title(f\"Distribución de personas con GT: {GTO}\")\n",
    "    plt.ylabel(\"Grupos\")\n",
    "    plt.xlabel(\"Individuos\")\n",
    "    plt.show()\n",
    "\n",
    "    plt.plot(range(1, len(val)+1), val)\n",
    "    plt.scatter(range(1, len(val)+1), val, label=\"Costo Esperado\")\n",
    "    plt.title(f\"Prevalencia: {p},    Opt GT: {GTO},    Costo Esperado: {master[GTO].objVal:0.2f}\")\n",
    "    plt.xlabel(\"Group Size\")\n",
    "    plt.ylabel(\"Costo\")\n",
    "    plt.legend()\n",
    "    plt.show()\n",
    "\n",
    "    \n",
    "    # Se teste el rendimiento de esta configuración usando las prevalencias reales \n",
    "    gamma = 0\n",
    "    for temp in range(config.shape[0]):\n",
    "        if np.sum(config[temp,:]) > 0:\n",
    "            gamma += 1\n",
    "    for t in resultados[i,:]:\n",
    "        if t == 1:\n",
    "            gamma += sum(config[t,:])\n",
    "    print(f\"El resultado final usando la configuración es: {gamma}\")"
   ]
  },
  {
   "cell_type": "code",
   "execution_count": null,
   "metadata": {},
   "outputs": [],
   "source": []
  }
 ],
 "metadata": {
  "kernelspec": {
   "display_name": "Python 3.9.5 64-bit",
   "language": "python",
   "name": "python3"
  },
  "language_info": {
   "codemirror_mode": {
    "name": "ipython",
    "version": 3
   },
   "file_extension": ".py",
   "mimetype": "text/x-python",
   "name": "python",
   "nbconvert_exporter": "python",
   "pygments_lexer": "ipython3",
   "version": "3.9.5 (tags/v3.9.5:0a7dcbd, May  3 2021, 17:27:52) [MSC v.1928 64 bit (AMD64)]"
  },
  "orig_nbformat": 4,
  "vscode": {
   "interpreter": {
    "hash": "9597414abd42ff27b0751883977d5c4d11cf16f231cb83e9d7e86010ff3aeba3"
   }
  }
 },
 "nbformat": 4,
 "nbformat_minor": 2
}
