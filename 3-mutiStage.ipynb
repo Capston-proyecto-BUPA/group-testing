{
 "cells": [
  {
   "cell_type": "code",
   "execution_count": null,
   "metadata": {},
   "outputs": [],
   "source": [
    "import numpy as np\n",
    "import matplotlib.pyplot as plt\n",
    "import gurobipy as gp\n",
    "import time as tm"
   ]
  },
  {
   "cell_type": "markdown",
   "metadata": {},
   "source": [
    "## Variables de decisión de 1er etapa\n",
    "$$x_{j}^i = \\left\\lbrace \\begin{array}{lc} 1 & \\text{Si el individio j pertence al grupo i}\\\\ 0 & \\text{En otro caso} \\end{array} \\right.$$\n",
    "$$ $$\n",
    "$$y_{i} = \\left\\lbrace \\begin{array}{lc} 1 & \\text{Si hay individuos en el grupo i}\\\\ 0 & \\text{En otro caso} \\end{array} \\right.$$\n",
    "$$z_{i} = \\text{Cantidad de indiviuos que hay en el grupo i}$$\n",
    "\n",
    "## Variables de decisión de 2da etapa"
   ]
  },
  {
   "cell_type": "markdown",
   "metadata": {},
   "source": [
    "## Restricciones\n",
    "\n",
    "Restricción 1: Relación de variables de decisión x e y\n",
    "\n",
    "Restricción 2: Todos los individuos tiene que estar en un grupo\n",
    "\n",
    "Restricción 3: La cantidad de grupos nos puede superar la cantidad de tests posibles\n",
    "\n",
    "Restricción 4: El grupo necesita cumplir el volumen de muestra minimo para que se realice un test.\n",
    "\n",
    "Restricción 5: Si el individuo luego de un Group testing no cumple el mínimo para que se realice un test individual, entonces se realice un test individual inmediatamente\n",
    "\n",
    "Restricción 6:"
   ]
  },
  {
   "cell_type": "markdown",
   "metadata": {},
   "source": [
    "# Optimización Estocástica Multietapa"
   ]
  },
  {
   "cell_type": "markdown",
   "metadata": {},
   "source": []
  }
 ],
 "metadata": {
  "kernelspec": {
   "display_name": "Python 3",
   "language": "python",
   "name": "python3"
  },
  "language_info": {
   "name": "python",
   "version": "3.9.5 (tags/v3.9.5:0a7dcbd, May  3 2021, 17:27:52) [MSC v.1928 64 bit (AMD64)]"
  },
  "orig_nbformat": 4,
  "vscode": {
   "interpreter": {
    "hash": "9597414abd42ff27b0751883977d5c4d11cf16f231cb83e9d7e86010ff3aeba3"
   }
  }
 },
 "nbformat": 4,
 "nbformat_minor": 2
}
